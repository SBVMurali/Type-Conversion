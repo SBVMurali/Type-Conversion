{
 "cells": [
  {
   "cell_type": "code",
   "execution_count": null,
   "id": "fcdfbcb5-1c6d-43a1-8186-61ae75c083c2",
   "metadata": {},
   "outputs": [],
   "source": [
    "#, Calculate the sum, difference, product, and quotient of two numbers."
   ]
  },
  {
   "cell_type": "code",
   "execution_count": 17,
   "id": "dd8faaf2-e064-43c3-95ea-7661b1d3938c",
   "metadata": {},
   "outputs": [
    {
     "name": "stdout",
     "output_type": "stream",
     "text": [
      "30\n",
      "10\n",
      "200\n",
      "2.0\n"
     ]
    }
   ],
   "source": [
    "a = 20\n",
    "b = 10\n",
    "c = a + b\n",
    "d = a - b\n",
    "e = a * b\n",
    "f = a / b\n",
    "print(c)\n",
    "print(d)\n",
    "print(e)\n",
    "print(f)"
   ]
  },
  {
   "cell_type": "code",
   "execution_count": 27,
   "id": "d42d7608-1852-438d-a01d-8b33d8f4bca2",
   "metadata": {},
   "outputs": [
    {
     "name": "stdout",
     "output_type": "stream",
     "text": [
      "Initial x: 10\n",
      "After += 5: 15\n",
      "After -= 3: 12\n",
      "After *= 2: 24\n",
      "After /= 4: 6.0\n",
      "After //= 2: 3.0\n",
      "After %= 2: 1.0\n",
      "After **= 3: 1.0\n"
     ]
    }
   ],
   "source": [
    "#Perform various assignment operations on a variable\n",
    "\n",
    "x = 10\n",
    "print(\"Initial x:\", x)\n",
    "\n",
    "x += 5\n",
    "print(\"After += 5:\", x)\n",
    "\n",
    "x -= 3\n",
    "print(\"After -= 3:\", x)\n",
    "\n",
    "x *= 2\n",
    "print(\"After *= 2:\", x)\n",
    "\n",
    "x /= 4\n",
    "print(\"After /= 4:\", x)\n",
    "\n",
    "x //= 2\n",
    "print(\"After //= 2:\", x)\n",
    "\n",
    "x %= 2\n",
    "print(\"After %= 2:\", x)\n",
    "\n",
    "x **= 3\n",
    "print(\"After **= 3:\", x)"
   ]
  },
  {
   "cell_type": "code",
   "execution_count": 29,
   "id": "d11bcd79-7c31-4b7b-95d0-7bc12e6fb55c",
   "metadata": {},
   "outputs": [
    {
     "name": "stdout",
     "output_type": "stream",
     "text": [
      "10 == 5: False\n",
      "10 != 5: True\n",
      "10 > 5: True\n",
      "10 < 5: False\n",
      "10 >= 5: True\n",
      "10 <= 5: False\n"
     ]
    }
   ],
   "source": [
    "# Compare two numbers and print the results\n",
    "\n",
    "num1 = 10\n",
    "num2 = 5\n",
    "\n",
    "# Compare using various operators and print the results\n",
    "print(f\"{num1} == {num2}: {num1 == num2}\")  # Equal to\n",
    "print(f\"{num1} != {num2}: {num1 != num2}\")  # Not equal to\n",
    "print(f\"{num1} > {num2}: {num1 > num2}\")    # Greater than\n",
    "print(f\"{num1} < {num2}: {num1 < num2}\")    # Less than\n",
    "print(f\"{num1} >= {num2}: {num1 >= num2}\")  # Greater than or equal to\n",
    "print(f\"{num1} <= {num2}: {num1 <= num2}\")  # Less than or equal to"
   ]
  },
  {
   "cell_type": "code",
   "execution_count": 31,
   "id": "743fbbec-91cd-4500-baf0-f14a3a6e6605",
   "metadata": {},
   "outputs": [
    {
     "name": "stdout",
     "output_type": "stream",
     "text": [
      "(num1 > num2) and (num2 < num3): True\n",
      "(num1 < num2) or (num2 < num3): True\n",
      "not (num1 == num2): True\n"
     ]
    }
   ],
   "source": [
    "# Check conditions using logical operators.\n",
    "\n",
    "num1 = 10\n",
    "num2 = 5\n",
    "num3 = 20\n",
    "\n",
    "# Using AND (both conditions must be true)\n",
    "print(f\"(num1 > num2) and (num2 < num3): {(num1 > num2) and (num2 < num3)}\")  # True if both are True\n",
    "\n",
    "# Using OR (at least one condition must be true)\n",
    "print(f\"(num1 < num2) or (num2 < num3): {(num1 < num2) or (num2 < num3)}\")  # True if any is True\n",
    "\n",
    "# Using NOT (inverts the condition)\n",
    "print(f\"not (num1 == num2): {not (num1 == num2)}\")  # True if num1 is not equal to num2"
   ]
  },
  {
   "cell_type": "code",
   "execution_count": 33,
   "id": "69747c9b-327f-40bf-a3ea-15a9d2d08c61",
   "metadata": {},
   "outputs": [
    {
     "name": "stdout",
     "output_type": "stream",
     "text": [
      "a is b: True\n",
      "a is not c: True\n"
     ]
    }
   ],
   "source": [
    "#Check the identity of variables.\n",
    "a = [1, 2, 3]\n",
    "b = a\n",
    "c = [1, 2, 3]\n",
    "\n",
    "# Check identity using 'is'\n",
    "print(f\"a is b: {a is b}\")  # True, since both 'a' and 'b' refer to the same object\n",
    "\n",
    "# Check identity using 'is not'\n",
    "print(f\"a is not c: {a is not c}\")  # True, since 'a' and 'c' are two different objects, even though their values are the same"
   ]
  },
  {
   "cell_type": "code",
   "execution_count": 35,
   "id": "eb826c80-3db3-4ace-8db0-0262cabd4596",
   "metadata": {},
   "outputs": [
    {
     "name": "stdout",
     "output_type": "stream",
     "text": [
      "-10\n",
      "20\n"
     ]
    }
   ],
   "source": [
    "# Use unary operators to change the sign of a number.\n",
    "a = 10\n",
    "b = -20\n",
    "num1 = -a\n",
    "num2 = -b\n",
    "print(num1)\n",
    "print(num2)"
   ]
  },
  {
   "cell_type": "code",
   "execution_count": 37,
   "id": "5fd356fa-6382-47bf-adc7-04a2a359a685",
   "metadata": {},
   "outputs": [
    {
     "name": "stdout",
     "output_type": "stream",
     "text": [
      "a is greater\n"
     ]
    }
   ],
   "source": [
    "#Use the ternary operator to assign values based on conditions.\n",
    "\n",
    "a = 10\n",
    "b = 5\n",
    "\n",
    "# Use the ternary operator to assign a value based on a condition\n",
    "result = \"a is greater\" if a > b else \"b is greater or equal\"\n",
    "print(result)"
   ]
  },
  {
   "cell_type": "code",
   "execution_count": null,
   "id": "32e94011-9052-451b-81cf-c9315d5fec65",
   "metadata": {},
   "outputs": [],
   "source": []
  }
 ],
 "metadata": {
  "kernelspec": {
   "display_name": "Python 3 (ipykernel)",
   "language": "python",
   "name": "python3"
  },
  "language_info": {
   "codemirror_mode": {
    "name": "ipython",
    "version": 3
   },
   "file_extension": ".py",
   "mimetype": "text/x-python",
   "name": "python",
   "nbconvert_exporter": "python",
   "pygments_lexer": "ipython3",
   "version": "3.12.7"
  }
 },
 "nbformat": 4,
 "nbformat_minor": 5
}
