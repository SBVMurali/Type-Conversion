{
 "cells": [
  {
   "cell_type": "code",
   "execution_count": 3,
   "id": "521a7411-caff-4660-a802-834ea0f1bdd0",
   "metadata": {},
   "outputs": [
    {
     "name": "stdout",
     "output_type": "stream",
     "text": [
      "1\n",
      "2\n",
      "3\n",
      "4\n"
     ]
    }
   ],
   "source": [
    "#Write a program to print numbers from 1 to 10, but stop if the number is 5.\n",
    "for i in range(1,11):\n",
    "    if i == 5:\n",
    "       break\n",
    "    print(i)"
   ]
  },
  {
   "cell_type": "code",
   "execution_count": 9,
   "id": "c2be42e1-4f81-420c-b046-913ed55cb807",
   "metadata": {},
   "outputs": [
    {
     "name": "stdout",
     "output_type": "stream",
     "text": [
      "1\n",
      "2\n",
      "3\n",
      "4\n"
     ]
    }
   ],
   "source": [
    "#Write a program to iterate through a list and stop when encountering a specific element.\n",
    "n = [1,2,3,4,5,6,7,8,9,10]\n",
    "stop_element = 5\n",
    "for i in n:\n",
    "    if i == stop_element:\n",
    "        break\n",
    "    print(i)"
   ]
  },
  {
   "cell_type": "code",
   "execution_count": 15,
   "id": "5c199b30-b933-462b-b475-ee1aef070600",
   "metadata": {},
   "outputs": [
    {
     "name": "stdout",
     "output_type": "stream",
     "text": [
      "1\n",
      "3\n",
      "5\n",
      "7\n",
      "9\n"
     ]
    }
   ],
   "source": [
    "# Write a program to skip printing even numbers from 1 to 10.\n",
    "for i in range(1,11):\n",
    "    if i % 2== 0:\n",
    "        continue\n",
    "    print(i)"
   ]
  },
  {
   "cell_type": "code",
   "execution_count": null,
   "id": "4e32b9a0-a74f-496c-b1be-c289ac21e7bf",
   "metadata": {},
   "outputs": [],
   "source": [
    "#Write a program to print numbers from 0 to 9 using range()"
   ]
  },
  {
   "cell_type": "code",
   "execution_count": 19,
   "id": "5196ca12-97b9-490b-afdf-74b53e130096",
   "metadata": {},
   "outputs": [
    {
     "name": "stdout",
     "output_type": "stream",
     "text": [
      "0\n",
      "1\n",
      "2\n",
      "3\n",
      "4\n",
      "5\n",
      "6\n",
      "7\n",
      "8\n",
      "9\n"
     ]
    }
   ],
   "source": [
    "for i in range(0,10):\n",
    "    print(i)"
   ]
  },
  {
   "cell_type": "code",
   "execution_count": 21,
   "id": "5baca166-f3ec-4940-b34f-142b033dce4c",
   "metadata": {},
   "outputs": [
    {
     "name": "stdout",
     "output_type": "stream",
     "text": [
      "Multiplication table for 1:\n",
      "1 x 1 = 1\n",
      "\n",
      "Multiplication table for 2:\n",
      "2 x 1 = 2\n",
      "\n",
      "Multiplication table for 3:\n",
      "3 x 1 = 3\n",
      "\n",
      "Multiplication table for 4:\n",
      "4 x 1 = 4\n",
      "\n",
      "Multiplication table for 5:\n",
      "5 x 1 = 5\n",
      "\n"
     ]
    }
   ],
   "source": [
    "#Write a program to print multiplication tables from 1 to 5, but stop after the first table is printed for each number.\n",
    "for i in range(1, 6):\n",
    "    print(f\"Multiplication table for {i}:\")\n",
    "    \n",
    "    # Inner loop to print the first row of the multiplication table\n",
    "    for j in range(1, 2):  # Only print the first multiplication (i * 1)\n",
    "        print(f\"{i} x {j} = {i * j}\")\n",
    "    \n",
    "    # Print a newline after each table for better formatting\n",
    "    print()"
   ]
  },
  {
   "cell_type": "code",
   "execution_count": 23,
   "id": "ea41a232-63aa-4efb-bc1b-34b6c5706d16",
   "metadata": {},
   "outputs": [
    {
     "name": "stdout",
     "output_type": "stream",
     "text": [
      "1\n",
      "3\n",
      "5\n",
      "7\n",
      "9\n"
     ]
    }
   ],
   "source": [
    "#Write a program to skip printing even numbers using a while loop.\n",
    "num = 1\n",
    "\n",
    "# While loop to iterate through numbers from 1 to 10\n",
    "while num <= 10:\n",
    "    if num % 2 == 0:  # Check if the number is even\n",
    "        num += 1  # Increment the number before skipping\n",
    "        continue  # Skip the even number\n",
    "    print(num)  # Print odd numbers\n",
    "    num += 1 "
   ]
  },
  {
   "cell_type": "code",
   "execution_count": null,
   "id": "8cb20a59-556a-48c0-a6db-6851cfd8d6e2",
   "metadata": {},
   "outputs": [],
   "source": []
  }
 ],
 "metadata": {
  "kernelspec": {
   "display_name": "Python 3 (ipykernel)",
   "language": "python",
   "name": "python3"
  },
  "language_info": {
   "codemirror_mode": {
    "name": "ipython",
    "version": 3
   },
   "file_extension": ".py",
   "mimetype": "text/x-python",
   "name": "python",
   "nbconvert_exporter": "python",
   "pygments_lexer": "ipython3",
   "version": "3.12.7"
  }
 },
 "nbformat": 4,
 "nbformat_minor": 5
}
